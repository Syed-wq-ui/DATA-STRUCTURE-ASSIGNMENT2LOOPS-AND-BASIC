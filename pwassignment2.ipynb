{
  "nbformat": 4,
  "nbformat_minor": 0,
  "metadata": {
    "colab": {
      "provenance": []
    },
    "kernelspec": {
      "name": "python3",
      "display_name": "Python 3"
    },
    "language_info": {
      "name": "python"
    }
  },
  "cells": [
    {
      "cell_type": "markdown",
      "source": [
        "#1.What is Python, and why is it popular\n",
        "#2.What is an interpreter in Python\n",
        "#3.What are pre-defined keywords in Python\n",
        "#4.Can keywords be used as variable names\n",
        "#5.What is mutability in Python\n",
        "#6.Why are lists mutable, but tuples are immutable\n",
        "#7.What is the difference between “==” and “is” operators in Python\n",
        "#8.What are logical operators in Python\n",
        "#9.What is type casting in Python\n",
        "#10.What is the difference between implicit and explicit type casting\n",
        "#11.What is the purpose of conditional statements in Python\n",
        "#12.How does the elif statement work\n",
        "#13.What is the difference between for and while loops\n",
        "#14.Describe a scenario where a while loop is more suitable than a for loop\n",
        "\n",
        "ANSWERS\n",
        "\n",
        "1. >>Python is a programming language that helps a person to code and it is popular because of its use in vast fields as it is easy to learn\n",
        "\n",
        "2. >>It directly executes python code line by line\n",
        "\n",
        "3. >>Pre-defined keywords are those keywords that are already defined in the\n",
        "language suc as and it cannot be used as variable name eg:if,else,for\n",
        "\n",
        "4. >>No it cannot be used as variable name\n",
        "\n",
        "5. >>Mutability term refers to the meaning of changing something without changing adress\n",
        "\n",
        "6. >>List are mutable because we can add,remove or rename listing the index the new elements\n",
        "\n",
        "   >>But tuples are immutable because in this we cannot change and it enhances data integrity\n",
        "\n",
        "7. >> '==' operator compares elements whereas 'is' operators checks whether two variable point to the same object\n",
        "\n",
        "8. >>logical operators gives true or false types of operator in python are:\n",
        "     1. and - it gives true if both condition true\n",
        "     2. or - it gives true if any one condition is true\n",
        "     3. not - it reverses the condition\n",
        "\n",
        "9. >>Typecasting is changing the element from one form to other form for eg:-changing a string to integer\n",
        "\n",
        "10. >>implicit type casting - it automatically converts\n",
        "    >>explicit type casting - we have to convert it by mentioning for eg you want to convert str to int then we have to write it as s = 'ajay'\n",
        "    then int(s) and it will be converted\n",
        "\n",
        "11. >>it checks the flow of a program\n",
        "\n",
        "12. >>The elif statement allows multiple statements to be checked for eg if one thing doesnt work then go the else block\n",
        "\n",
        "13. >>while loop works until the condition is true\n",
        "    >>for loop works for a specified number of iterations\n",
        "\n",
        "14. >>while loop is good when you user inputs a number\n"
      ],
      "metadata": {
        "id": "6kI9DFe8njSc"
      }
    },
    {
      "cell_type": "code",
      "source": [
        "# Write a Python program to print \"Hello, World!\n",
        "# Write a Python program that displays your name and age\n",
        "# Write code to print all the pre-defined keywords in Python using the keyword library\n",
        "# Write a program that checks if a given word is a Python keyword.\n",
        "# Write a function to demonstrate the behavior of mutable and immutable arguments.\n",
        "# Write a program that performs basic arithmetic operations on two user-input numbers.\n",
        "#  Write a program to demonstraters. the use of logical operato\n",
        "# Create a list and tuple in Python, and demonstrate how attempting to change an element works differently\n",
        "# for each.\n",
        "# Write a Python program to convert user input from string to integer, float, and boolean types.\n",
        "# Write code to demonstrate type casting with list elements.\n",
        "# Write a program that checks if a number is positive, negative, or zero.\n",
        "# Write a for loop to print numbers from 1 to 10.\n",
        "# Write a Python program to find the sum of all even numbers between 1 and 50.\n",
        "# Write a program to reverse a string using a while loop.\n",
        "# Write a Python program to calculate the factorial of a number provided by the user using a while loop."
      ],
      "metadata": {
        "id": "mcIVwRVR7kGy"
      },
      "execution_count": null,
      "outputs": []
    },
    {
      "cell_type": "code",
      "source": [
        "#first question\n",
        "a = 'hello world!'\n",
        "print(a)\n"
      ],
      "metadata": {
        "id": "bicyqTmu8bTE",
        "colab": {
          "base_uri": "https://localhost:8080/"
        },
        "outputId": "eaca1c3a-537b-471a-9871-4fa36c065ffc"
      },
      "execution_count": 2,
      "outputs": [
        {
          "output_type": "stream",
          "name": "stdout",
          "text": [
            "hello world!\n"
          ]
        }
      ]
    },
    {
      "cell_type": "code",
      "source": [
        "#second question\n",
        "Name = 'Syed'\n",
        "Age = 21\n",
        "print('Name: ',Name,'Age: ',Age)"
      ],
      "metadata": {
        "colab": {
          "base_uri": "https://localhost:8080/"
        },
        "id": "PpdMKBwJMT3N",
        "outputId": "06ec0ec5-1f14-4d11-af20-c5ad323a2dd7"
      },
      "execution_count": 4,
      "outputs": [
        {
          "output_type": "stream",
          "name": "stdout",
          "text": [
            "Name:  Syed Age:  21\n"
          ]
        }
      ]
    },
    {
      "cell_type": "code",
      "source": [
        "#Third question\n",
        "import keyword\n",
        "print(keyword.kwlist)"
      ],
      "metadata": {
        "colab": {
          "base_uri": "https://localhost:8080/"
        },
        "id": "wTVYC-nuMfW0",
        "outputId": "61c113f7-b934-4dc6-f29d-173f9fca05b9"
      },
      "execution_count": 5,
      "outputs": [
        {
          "output_type": "stream",
          "name": "stdout",
          "text": [
            "['False', 'None', 'True', 'and', 'as', 'assert', 'async', 'await', 'break', 'class', 'continue', 'def', 'del', 'elif', 'else', 'except', 'finally', 'for', 'from', 'global', 'if', 'import', 'in', 'is', 'lambda', 'nonlocal', 'not', 'or', 'pass', 'raise', 'return', 'try', 'while', 'with', 'yield']\n"
          ]
        }
      ]
    },
    {
      "cell_type": "code",
      "source": [
        "#fourth question\n",
        "import keyword\n",
        "k = 'for'\n",
        "k in keyword.kwlist"
      ],
      "metadata": {
        "colab": {
          "base_uri": "https://localhost:8080/"
        },
        "id": "xKzuhsIzM_N_",
        "outputId": "c9abfd24-1c25-4551-db85-5a10c4c0f469"
      },
      "execution_count": 10,
      "outputs": [
        {
          "output_type": "execute_result",
          "data": {
            "text/plain": [
              "True"
            ]
          },
          "metadata": {},
          "execution_count": 10
        }
      ]
    },
    {
      "cell_type": "code",
      "source": [
        "#fifth question"
      ],
      "metadata": {
        "id": "e6h92BUqNOc_"
      },
      "execution_count": 11,
      "outputs": []
    },
    {
      "cell_type": "code",
      "source": [
        "#sixth question\n",
        "a = True\n",
        "b = False\n",
        "a & b"
      ],
      "metadata": {
        "colab": {
          "base_uri": "https://localhost:8080/"
        },
        "id": "5Lmb80v1OEQd",
        "outputId": "e53e72c6-5062-46ff-faba-94f2ae7747b1"
      },
      "execution_count": 14,
      "outputs": [
        {
          "output_type": "execute_result",
          "data": {
            "text/plain": [
              "False"
            ]
          },
          "metadata": {},
          "execution_count": 14
        }
      ]
    },
    {
      "cell_type": "code",
      "source": [
        "#7th question\n",
        "l = [1,2,3,4]\n",
        "t = ('hi','hello','how are you')\n"
      ],
      "metadata": {
        "id": "9bzgOp7-OXP1"
      },
      "execution_count": 15,
      "outputs": []
    },
    {
      "cell_type": "code",
      "source": [
        "#changing in list\n",
        "l[0]=6\n",
        "l"
      ],
      "metadata": {
        "colab": {
          "base_uri": "https://localhost:8080/"
        },
        "id": "BZ0cOqO7PNI9",
        "outputId": "b27e5bb9-29c5-4e1f-bb9c-25e8da9b7564"
      },
      "execution_count": 16,
      "outputs": [
        {
          "output_type": "execute_result",
          "data": {
            "text/plain": [
              "[6, 2, 3, 4]"
            ]
          },
          "metadata": {},
          "execution_count": 16
        }
      ]
    },
    {
      "cell_type": "code",
      "source": [
        "#changing in tuple\n",
        "t[0]='bye'\n",
        "t\n",
        "#in tuple it will throw an error as it is immutable"
      ],
      "metadata": {
        "colab": {
          "base_uri": "https://localhost:8080/",
          "height": 179
        },
        "id": "9zt8STRsPShO",
        "outputId": "92e68fc7-c27b-4e21-928e-3f64f1cec630"
      },
      "execution_count": 17,
      "outputs": [
        {
          "output_type": "error",
          "ename": "TypeError",
          "evalue": "'tuple' object does not support item assignment",
          "traceback": [
            "\u001b[0;31m---------------------------------------------------------------------------\u001b[0m",
            "\u001b[0;31mTypeError\u001b[0m                                 Traceback (most recent call last)",
            "\u001b[0;32m<ipython-input-17-648360add87b>\u001b[0m in \u001b[0;36m<cell line: 0>\u001b[0;34m()\u001b[0m\n\u001b[1;32m      1\u001b[0m \u001b[0;31m#changing in tuple\u001b[0m\u001b[0;34m\u001b[0m\u001b[0;34m\u001b[0m\u001b[0m\n\u001b[0;32m----> 2\u001b[0;31m \u001b[0mt\u001b[0m\u001b[0;34m[\u001b[0m\u001b[0;36m0\u001b[0m\u001b[0;34m]\u001b[0m\u001b[0;34m=\u001b[0m\u001b[0;34m'bye'\u001b[0m\u001b[0;34m\u001b[0m\u001b[0;34m\u001b[0m\u001b[0m\n\u001b[0m\u001b[1;32m      3\u001b[0m \u001b[0mt\u001b[0m\u001b[0;34m\u001b[0m\u001b[0;34m\u001b[0m\u001b[0m\n",
            "\u001b[0;31mTypeError\u001b[0m: 'tuple' object does not support item assignment"
          ]
        }
      ]
    },
    {
      "cell_type": "code",
      "source": [
        "#8th question\n",
        "number = input('number')"
      ],
      "metadata": {
        "colab": {
          "base_uri": "https://localhost:8080/"
        },
        "id": "9wHBN95WPXQ1",
        "outputId": "ee300baf-9633-4909-eec1-091b4060aafe"
      },
      "execution_count": 23,
      "outputs": [
        {
          "name": "stdout",
          "output_type": "stream",
          "text": [
            "number'123'\n"
          ]
        }
      ]
    },
    {
      "cell_type": "code",
      "source": [
        "#string to integer\n",
        "convertednumber = int(number)\n",
        "print(convertednumber)\n"
      ],
      "metadata": {
        "colab": {
          "base_uri": "https://localhost:8080/"
        },
        "id": "3EeErwczP1fP",
        "outputId": "de510765-e100-4f30-ec7e-8c744af8e50c"
      },
      "execution_count": 28,
      "outputs": [
        {
          "output_type": "stream",
          "name": "stdout",
          "text": [
            "123\n"
          ]
        }
      ]
    },
    {
      "cell_type": "code",
      "source": [
        "#string to float\n",
        "floatvalue = float(number)\n",
        "floatvalue"
      ],
      "metadata": {
        "colab": {
          "base_uri": "https://localhost:8080/"
        },
        "id": "SbdeM6RXQK3Q",
        "outputId": "391cdb4f-b53f-4283-e135-ca267d57240b"
      },
      "execution_count": 31,
      "outputs": [
        {
          "output_type": "execute_result",
          "data": {
            "text/plain": [
              "123.0"
            ]
          },
          "metadata": {},
          "execution_count": 31
        }
      ]
    },
    {
      "cell_type": "code",
      "source": [
        "#string to boolean\n",
        "boolvalue = bool(number)\n",
        "print(boolvalue)"
      ],
      "metadata": {
        "colab": {
          "base_uri": "https://localhost:8080/"
        },
        "id": "e4lG5F-VRzdc",
        "outputId": "99be49b8-0145-4b8f-d03c-042a5da29a81"
      },
      "execution_count": 30,
      "outputs": [
        {
          "output_type": "stream",
          "name": "stdout",
          "text": [
            "True\n"
          ]
        }
      ]
    },
    {
      "cell_type": "code",
      "source": [
        "#9th question\n",
        "l = ['1','2','3']\n",
        "#typecasting\n",
        "castedvalue = int(l[0])\n",
        "print(castedvalue)"
      ],
      "metadata": {
        "colab": {
          "base_uri": "https://localhost:8080/"
        },
        "id": "07-WkavqR9Rb",
        "outputId": "46744f07-7a38-4be0-a7dc-ac1df629efea"
      },
      "execution_count": 36,
      "outputs": [
        {
          "output_type": "stream",
          "name": "stdout",
          "text": [
            "1\n"
          ]
        }
      ]
    },
    {
      "cell_type": "code",
      "source": [
        "#10th ques\n",
        "number = int(input('enter the number: '))   ##always state the value in which you want to input the numberr\n",
        "if number == 0:\n",
        "  print('the number is zero')\n",
        "elif number > 0:\n",
        "    print('the number is positive')\n",
        "elif number < 0:\n",
        "      print('the number is negative')\n"
      ],
      "metadata": {
        "colab": {
          "base_uri": "https://localhost:8080/"
        },
        "id": "MeoF6t9JSTJb",
        "outputId": "1c63edf5-59e4-43d2-de25-081eafae4ba5"
      },
      "execution_count": 5,
      "outputs": [
        {
          "output_type": "stream",
          "name": "stdout",
          "text": [
            "enter the number: -9\n",
            "the number is negative\n"
          ]
        }
      ]
    },
    {
      "cell_type": "code",
      "source": [
        "#11th ques\n",
        "for i in range(1,11):\n",
        "     print(i)"
      ],
      "metadata": {
        "colab": {
          "base_uri": "https://localhost:8080/"
        },
        "id": "mQkMccA6sK_1",
        "outputId": "82704138-124a-4002-af2a-61c4c504b5d3"
      },
      "execution_count": 7,
      "outputs": [
        {
          "output_type": "stream",
          "name": "stdout",
          "text": [
            "1\n",
            "2\n",
            "3\n",
            "4\n",
            "5\n",
            "6\n",
            "7\n",
            "8\n",
            "9\n",
            "10\n"
          ]
        }
      ]
    },
    {
      "cell_type": "code",
      "source": [
        "#12th ques\n",
        "sum = 0\n",
        "for i in range(1,51):\n",
        "  if i%2 == 0:\n",
        "    if i==51:\n",
        "      break\n",
        "    sum = sum+i\n",
        "print(\"the sum of even numbers are: \",sum)"
      ],
      "metadata": {
        "colab": {
          "base_uri": "https://localhost:8080/"
        },
        "id": "woeKEPtes-hN",
        "outputId": "62f86308-ae1e-4b64-e502-659e84808212"
      },
      "execution_count": 19,
      "outputs": [
        {
          "output_type": "stream",
          "name": "stdout",
          "text": [
            "the sum of even numbers are:  650\n"
          ]
        }
      ]
    },
    {
      "cell_type": "code",
      "source": [
        "#13 ques\n",
        "s = '1234'\n",
        "num = int(s)\n",
        "reverse = 0\n",
        "while num > 0:\n",
        "    digit = num % 10\n",
        "    reverse = reverse * 10 + digit\n",
        "    num = num // 10\n",
        "print(reverse)\n"
      ],
      "metadata": {
        "colab": {
          "base_uri": "https://localhost:8080/"
        },
        "id": "sNGl85mjtlyk",
        "outputId": "1f6276c0-c233-45cd-c612-fadf276be94e"
      },
      "execution_count": 26,
      "outputs": [
        {
          "output_type": "stream",
          "name": "stdout",
          "text": [
            "4321\n"
          ]
        }
      ]
    },
    {
      "cell_type": "code",
      "source": [
        "#14th ques\n",
        "number = int(input('enter the number: '))\n",
        "factorial = 1\n",
        "while number>0:\n",
        "   factorial = factorial*number\n",
        "   number = number-1\n",
        "print(factorial)"
      ],
      "metadata": {
        "colab": {
          "base_uri": "https://localhost:8080/"
        },
        "id": "w__1M-4nwt6D",
        "outputId": "5e406098-da08-41ea-b0fd-cbdf37334bce"
      },
      "execution_count": 31,
      "outputs": [
        {
          "output_type": "stream",
          "name": "stdout",
          "text": [
            "enter the number: 5\n",
            "120\n"
          ]
        }
      ]
    },
    {
      "cell_type": "code",
      "source": [],
      "metadata": {
        "id": "JN8AQet-zNXF"
      },
      "execution_count": null,
      "outputs": []
    }
  ]
}